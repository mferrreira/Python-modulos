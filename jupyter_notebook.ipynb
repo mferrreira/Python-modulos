# Jupyter Notebook - Instalação e teste

# Essa linha cria uma variável a
a = 2

# Essa linha tem o valor da variável "a" em dobro
b = 2 * a
